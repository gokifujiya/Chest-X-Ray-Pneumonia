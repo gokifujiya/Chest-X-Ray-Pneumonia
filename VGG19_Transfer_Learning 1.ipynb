{
  "nbformat": 4,
  "nbformat_minor": 0,
  "metadata": {
    "colab": {
      "name": "VGG19_Learning_Transfer.ipynb",
      "provenance": [],
      "collapsed_sections": []
    },
    "kernelspec": {
      "display_name": "Python 3",
      "name": "python3"
    },
    "language_info": {
      "name": "python"
    },
    "accelerator": "GPU"
  },
  "cells": [
    {
      "cell_type": "code",
      "metadata": {
        "id": "rgDNidWbBoV5"
      },
      "source": [
        "from keras.models import load_model\n",
        "from keras.layers import Activation, Dense, Flatten\n",
        "from keras.optimizers import Adam\n",
        "from keras.preprocessing.image import ImageDataGenerator\n",
        "\n",
        "from sklearn.metrics import accuracy_score, roc_curve, confusion_matrix, precision_score, recall_score, f1_score, roc_auc_score\n",
        "import matplotlib.pyplot as plt\n",
        "import matplotlib.pyplot as plt_False_Positive_vs_True_Positive\n",
        "\n",
        "from keras.applications.vgg19 import VGG19\n",
        "from keras.models import Model"
      ],
      "execution_count": 1,
      "outputs": []
    },
    {
      "cell_type": "code",
      "metadata": {
        "colab": {
          "base_uri": "https://localhost:8080/"
        },
        "id": "-xx_GNMsjI3r",
        "outputId": "0b4c530b-6f18-44c4-f816-9a85f5ef1b52"
      },
      "source": [
        "from google.colab import drive\n",
        "drive.mount('/content/drive')"
      ],
      "execution_count": 2,
      "outputs": [
        {
          "output_type": "stream",
          "text": [
            "Drive already mounted at /content/drive; to attempt to forcibly remount, call drive.mount(\"/content/drive\", force_remount=True).\n"
          ],
          "name": "stdout"
        }
      ]
    },
    {
      "cell_type": "code",
      "metadata": {
        "id": "afcgnMHyCjnc"
      },
      "source": [
        "def Build_CNN_Model():\n",
        "    # -------------------------------------------------------------------------\n",
        "    #                        Transfer VGG Model \n",
        "    # -------------------------------------------------------------------------\n",
        "    # load VGG model\n",
        "    vgg = VGG19(include_top = True, input_shape = (224, 224, 3))\n",
        "    \n",
        "    # mark loaded layers as trainable\n",
        "    for layer in vgg.layers:\n",
        "\t    layer.trainable = False      \n",
        "\t       \n",
        "    #  Flatten and Fully Connected Layer\n",
        "    Flat_layer = Flatten()(vgg.layers[11].output)\n",
        "\n",
        "    FC_layer = Dense(100)(Flat_layer)    \n",
        "       \n",
        "    Act_layer = Activation('relu')(FC_layer)\n",
        "    \n",
        "    #  Softmax Classifier\n",
        "    Class_layer = Dense(1)(Act_layer)\n",
        "    \n",
        "    Softmax_layer = Activation('softmax')(Class_layer)\n",
        "        \n",
        "\t# define new model    \n",
        "    model = Model(inputs = vgg.inputs, outputs = Softmax_layer)\n",
        "            \n",
        "    #  Display model\n",
        "    model.summary()\n",
        "    \n",
        "\t# compile model\n",
        "\n",
        "    opt = Adam(learning_rate = 0.001, beta_1 = 0.9, beta_2 = 0.999)\n",
        "    model.compile(optimizer = opt, loss = 'binary_crossentropy', metrics = ['accuracy'])\n",
        "    \n",
        "    return model"
      ],
      "execution_count": 3,
      "outputs": []
    },
    {
      "cell_type": "code",
      "metadata": {
        "id": "3rGAolYIClXq"
      },
      "source": [
        "# train and evalluate cnn model\n",
        "def Train_CNN_Model(model):\n",
        "    \n",
        "    # -------------------------------------------------------------------------\n",
        "    #                        Train CNN Model \n",
        "    # -------------------------------------------------------------------------\n",
        "    \n",
        "    # create data generators    \n",
        "    # create data generators    \n",
        "    train_datagen = ImageDataGenerator(\n",
        "                                     rescale = 1.0/255.0,\n",
        "                                     featurewise_center = True,\n",
        "                                     featurewise_std_normalization = True,\n",
        "                                     rotation_range = 10,\n",
        "                                     width_shift_range = 0.1,\n",
        "                                     height_shift_range = 0.1,\n",
        "                                     zoom_range = 0.2,                                     \n",
        "                                     brightness_range = [0.2, 1.0],\n",
        "                                     )\n",
        "    valid_datagen = ImageDataGenerator(\n",
        "                                     rescale = 1.0 / 255.0,)\n",
        "    \n",
        "   \n",
        "   \n",
        "    # prepare iterators\n",
        "    train_it = train_datagen.flow_from_directory('/content/drive/MyDrive/chest_xray/train',class_mode = 'binary', batch_size = 16, target_size = (224, 224))\n",
        "    valid_it = valid_datagen.flow_from_directory('/content/drive/MyDrive/chest_xray/val',class_mode = 'binary', batch_size = 8, target_size = (224, 224))\n",
        "\n",
        "\n",
        "    history = model.fit(\n",
        "    train_it,\n",
        "    steps_per_epoch = 50,\n",
        "    epochs = 20,\n",
        "    validation_data = valid_it)\n",
        "    \n",
        "    \n",
        "    #  \"Accuracy\"\n",
        "    plt.plot(history.history['accuracy'])\n",
        "    plt.plot(history.history['val_accuracy'])\n",
        "    plt.title('model accuracy')\n",
        "    plt.ylabel('accuracy')\n",
        "    plt.xlabel('epoch')\n",
        "    plt.legend(['train', 'validation'], loc = 'upper left')\n",
        "    plt.show()\n",
        "    \n",
        "    # \"Loss\"\n",
        "    plt.plot(history.history['loss'])\n",
        "    plt.plot(history.history['val_loss'])\n",
        "    plt.title('model loss')\n",
        "    plt.ylabel('loss')\n",
        "    plt.xlabel('epoch')\n",
        "    plt.legend(['train', 'validation'], loc = 'upper left')\n",
        "    plt.show()\n",
        "\n",
        "\t# save model\n",
        "    model.save('medical_diagnosis_cnn_model.h5')"
      ],
      "execution_count": 4,
      "outputs": []
    },
    {
      "cell_type": "code",
      "metadata": {
        "id": "EYxeVYH2CrN9"
      },
      "source": [
        "def Evaluate_CNN_Model():\n",
        "    # -------------------------------------------------------------------------\n",
        "    #                        Evaluate CNN Model \n",
        "    # -------------------------------------------------------------------------\n",
        "    \n",
        "    # load model\n",
        "    model = load_model('medical_diagnosis_cnn_model.h5')\n",
        "    \n",
        "    # load test data\n",
        "    batch_size = 32\n",
        "    test_datagen = ImageDataGenerator(\n",
        "                                     rescale = 1.0 / 255.0,)\n",
        "    \n",
        "    test_it = test_datagen.flow_from_directory('/content/drive/MyDrive/chest_xray/test', class_mode = 'binary', \n",
        "                                               shuffle = False, batch_size = batch_size, target_size = (224, 224))\n",
        "    \n",
        "    y_true = test_it.classes;\n",
        "\n",
        "    y_pred = model.predict(test_it)\n",
        "\n",
        "    \n",
        "    y_pred_prob = y_pred\n",
        "\n",
        "     \n",
        "    y_pred_binary =  y_pred_prob > 0.5\n",
        "   \n",
        "    #Confution Matrix    \n",
        "    print('\\nConfusion Matrix\\n -------------------------')    \n",
        "    print(confusion_matrix(y_true, y_pred_binary));\n",
        "    \n",
        "    # accuracy: (tp + tn) / (p + n)\n",
        "    accuracy = accuracy_score(y_true, y_pred_binary)\n",
        "    print('Accuracy: %f' % accuracy)\n",
        "    \n",
        "    \n",
        "    # precision tp / (tp + fp)\n",
        "    precision = precision_score(y_true, y_pred_binary)\n",
        "    print('Precision: %f' % precision)\n",
        "    \n",
        "    # recall: tp / (tp + fn)\n",
        "    recall = recall_score(y_true, y_pred_binary)\n",
        "    print('Recall: %f' % recall)\n",
        "    \n",
        "    # f1: 2 tp / (2 tp + fp + fn)\n",
        "    f1 = f1_score(y_true, y_pred_binary)\n",
        "    print('F1 score: %f' % f1)    \n",
        "       \n",
        "    # ROC AUC\n",
        "    auc = roc_auc_score(y_true, y_pred_prob)\n",
        "    print('ROC AUC: %f' % auc)\n",
        "    \n",
        "    \n",
        "    # calculate roc curves\n",
        "    fpr, tpr, _ = roc_curve(y_true, y_pred_prob)\n",
        "        \n",
        "    # plot the roc curve for the model\n",
        "    plt.figure()\n",
        "    plt_False_Positive_vs_True_Positive.plot(fpr, tpr, linestyle = '--', label = '')\n",
        "    \n",
        "    # axis labels\n",
        "    plt_False_Positive_vs_True_Positive.xlabel('False Positive Rate')\n",
        "    plt_False_Positive_vs_True_Positive.ylabel('True Positive Rate')\n",
        "       \n",
        "    # show the legend\n",
        "    plt_False_Positive_vs_True_Positive.legend()\n",
        "    # show the plot\n",
        "    plt_False_Positive_vs_True_Positive.show()"
      ],
      "execution_count": 5,
      "outputs": []
    },
    {
      "cell_type": "code",
      "metadata": {
        "id": "-4O2v8pVCxk8",
        "colab": {
          "base_uri": "https://localhost:8080/"
        },
        "outputId": "9f22f0cb-48a1-4a0f-d6f5-24888f365af0"
      },
      "source": [
        "# main entry    \n",
        "model = Build_CNN_Model()"
      ],
      "execution_count": 6,
      "outputs": [
        {
          "output_type": "stream",
          "text": [
            "Model: \"model\"\n",
            "_________________________________________________________________\n",
            "Layer (type)                 Output Shape              Param #   \n",
            "=================================================================\n",
            "input_1 (InputLayer)         [(None, 224, 224, 3)]     0         \n",
            "_________________________________________________________________\n",
            "block1_conv1 (Conv2D)        (None, 224, 224, 64)      1792      \n",
            "_________________________________________________________________\n",
            "block1_conv2 (Conv2D)        (None, 224, 224, 64)      36928     \n",
            "_________________________________________________________________\n",
            "block1_pool (MaxPooling2D)   (None, 112, 112, 64)      0         \n",
            "_________________________________________________________________\n",
            "block2_conv1 (Conv2D)        (None, 112, 112, 128)     73856     \n",
            "_________________________________________________________________\n",
            "block2_conv2 (Conv2D)        (None, 112, 112, 128)     147584    \n",
            "_________________________________________________________________\n",
            "block2_pool (MaxPooling2D)   (None, 56, 56, 128)       0         \n",
            "_________________________________________________________________\n",
            "block3_conv1 (Conv2D)        (None, 56, 56, 256)       295168    \n",
            "_________________________________________________________________\n",
            "block3_conv2 (Conv2D)        (None, 56, 56, 256)       590080    \n",
            "_________________________________________________________________\n",
            "block3_conv3 (Conv2D)        (None, 56, 56, 256)       590080    \n",
            "_________________________________________________________________\n",
            "block3_conv4 (Conv2D)        (None, 56, 56, 256)       590080    \n",
            "_________________________________________________________________\n",
            "block3_pool (MaxPooling2D)   (None, 28, 28, 256)       0         \n",
            "_________________________________________________________________\n",
            "flatten (Flatten)            (None, 200704)            0         \n",
            "_________________________________________________________________\n",
            "dense (Dense)                (None, 100)               20070500  \n",
            "_________________________________________________________________\n",
            "activation (Activation)      (None, 100)               0         \n",
            "_________________________________________________________________\n",
            "dense_1 (Dense)              (None, 1)                 101       \n",
            "_________________________________________________________________\n",
            "activation_1 (Activation)    (None, 1)                 0         \n",
            "=================================================================\n",
            "Total params: 22,396,169\n",
            "Trainable params: 20,070,601\n",
            "Non-trainable params: 2,325,568\n",
            "_________________________________________________________________\n"
          ],
          "name": "stdout"
        }
      ]
    },
    {
      "cell_type": "code",
      "metadata": {
        "colab": {
          "base_uri": "https://localhost:8080/",
          "height": 1000
        },
        "id": "EqScgsIWgEmO",
        "outputId": "07acb729-702d-4ac1-a2e4-e074aa7248e2"
      },
      "source": [
        "Train_CNN_Model(model)"
      ],
      "execution_count": 7,
      "outputs": [
        {
          "output_type": "stream",
          "text": [
            "Found 5216 images belonging to 2 classes.\n",
            "Found 16 images belonging to 2 classes.\n"
          ],
          "name": "stdout"
        },
        {
          "output_type": "stream",
          "text": [
            "/usr/local/lib/python3.7/dist-packages/keras_preprocessing/image/image_data_generator.py:720: UserWarning: This ImageDataGenerator specifies `featurewise_center`, but it hasn't been fit on any training data. Fit it first by calling `.fit(numpy_data)`.\n",
            "  warnings.warn('This ImageDataGenerator specifies '\n",
            "/usr/local/lib/python3.7/dist-packages/keras_preprocessing/image/image_data_generator.py:728: UserWarning: This ImageDataGenerator specifies `featurewise_std_normalization`, but it hasn't been fit on any training data. Fit it first by calling `.fit(numpy_data)`.\n",
            "  warnings.warn('This ImageDataGenerator specifies '\n"
          ],
          "name": "stderr"
        },
        {
          "output_type": "stream",
          "text": [
            "Epoch 1/20\n",
            "50/50 [==============================] - 139s 2s/step - loss: 325.1987 - accuracy: 0.7735 - val_loss: 0.6932 - val_accuracy: 0.5000\n",
            "Epoch 2/20\n",
            "50/50 [==============================] - 107s 2s/step - loss: 1.4467 - accuracy: 0.7738 - val_loss: 0.6936 - val_accuracy: 0.5000\n",
            "Epoch 3/20\n",
            "50/50 [==============================] - 94s 2s/step - loss: 8.6653 - accuracy: 0.7359 - val_loss: 0.6944 - val_accuracy: 0.5000\n",
            "Epoch 4/20\n",
            "50/50 [==============================] - 79s 2s/step - loss: 0.6693 - accuracy: 0.7298 - val_loss: 0.6956 - val_accuracy: 0.5000\n",
            "Epoch 5/20\n",
            "50/50 [==============================] - 73s 1s/step - loss: 0.6629 - accuracy: 0.7211 - val_loss: 0.6971 - val_accuracy: 0.5000\n",
            "Epoch 6/20\n",
            "50/50 [==============================] - 59s 1s/step - loss: 0.6472 - accuracy: 0.7692 - val_loss: 0.6991 - val_accuracy: 0.5000\n",
            "Epoch 7/20\n",
            "50/50 [==============================] - 61s 1s/step - loss: 0.6465 - accuracy: 0.7332 - val_loss: 0.7013 - val_accuracy: 0.5000\n",
            "Epoch 8/20\n",
            "50/50 [==============================] - 54s 1s/step - loss: 2.7816 - accuracy: 0.7398 - val_loss: 0.7033 - val_accuracy: 0.5000\n",
            "Epoch 9/20\n",
            "50/50 [==============================] - 45s 910ms/step - loss: 0.6328 - accuracy: 0.7421 - val_loss: 0.7060 - val_accuracy: 0.5000\n",
            "Epoch 10/20\n",
            "50/50 [==============================] - 45s 912ms/step - loss: 0.6267 - accuracy: 0.7422 - val_loss: 0.7090 - val_accuracy: 0.5000\n",
            "Epoch 11/20\n",
            "50/50 [==============================] - 41s 818ms/step - loss: 0.6164 - accuracy: 0.7553 - val_loss: 0.7122 - val_accuracy: 0.5000\n",
            "Epoch 12/20\n",
            "50/50 [==============================] - 36s 710ms/step - loss: 0.6240 - accuracy: 0.7228 - val_loss: 0.7151 - val_accuracy: 0.5000\n",
            "Epoch 13/20\n",
            "50/50 [==============================] - 32s 648ms/step - loss: 0.6102 - accuracy: 0.7467 - val_loss: 0.7185 - val_accuracy: 0.5000\n",
            "Epoch 14/20\n",
            "50/50 [==============================] - 32s 634ms/step - loss: 0.5963 - accuracy: 0.7679 - val_loss: 0.7222 - val_accuracy: 0.5000\n",
            "Epoch 15/20\n",
            "50/50 [==============================] - 30s 613ms/step - loss: 0.5950 - accuracy: 0.7604 - val_loss: 0.7261 - val_accuracy: 0.5000\n",
            "Epoch 16/20\n",
            "50/50 [==============================] - 26s 520ms/step - loss: 0.6125 - accuracy: 0.7189 - val_loss: 0.7290 - val_accuracy: 0.5000\n",
            "Epoch 17/20\n",
            "50/50 [==============================] - 29s 575ms/step - loss: 0.5909 - accuracy: 0.7547 - val_loss: 0.7330 - val_accuracy: 0.5000\n",
            "Epoch 18/20\n",
            "50/50 [==============================] - 26s 513ms/step - loss: 0.6042 - accuracy: 0.7256 - val_loss: 0.7363 - val_accuracy: 0.5000\n",
            "Epoch 19/20\n",
            "50/50 [==============================] - 26s 513ms/step - loss: 0.5654 - accuracy: 0.7870 - val_loss: 0.7408 - val_accuracy: 0.5000\n",
            "Epoch 20/20\n",
            "50/50 [==============================] - 25s 494ms/step - loss: 0.5878 - accuracy: 0.7452 - val_loss: 0.7437 - val_accuracy: 0.5000\n"
          ],
          "name": "stdout"
        },
        {
          "output_type": "display_data",
          "data": {
            "image/png": "[encoded data removed]",
            "text/plain": [
              "<Figure size 432x288 with 1 Axes>"
            ]
          },
          "metadata": {
            "tags": [],
            "needs_background": "light"
          }
        },
        {
          "output_type": "display_data",
          "data": {
            "image/png": "[encoded data removed]",
            "text/plain": [
              "<Figure size 432x288 with 1 Axes>"
            ]
          },
          "metadata": {
            "tags": [],
            "needs_background": "light"
          }
        }
      ]
    },
    {
      "cell_type": "code",
      "metadata": {
        "id": "C2aPQdA2iMQR",
        "colab": {
          "base_uri": "https://localhost:8080/",
          "height": 495
        },
        "outputId": "9503ef4c-edaf-4b2e-870f-0ca2794c3e38"
      },
      "source": [
        "Evaluate_CNN_Model()"
      ],
      "execution_count": 8,
      "outputs": [
        {
          "output_type": "stream",
          "text": [
            "Found 624 images belonging to 2 classes.\n"
          ],
          "name": "stdout"
        },
        {
          "output_type": "stream",
          "text": [
            "No handles with labels found to put in legend.\n"
          ],
          "name": "stderr"
        },
        {
          "output_type": "stream",
          "text": [
            "\n",
            "Confusion Matrix\n",
            " -------------------------\n",
            "[[  0 234]\n",
            " [  0 390]]\n",
            "Accuracy: 0.625000\n",
            "Precision: 0.625000\n",
            "Recall: 1.000000\n",
            "F1 score: 0.769231\n",
            "ROC AUC: 0.500000\n"
          ],
          "name": "stdout"
        },
        {
          "output_type": "display_data",
          "data": {
            "image/png": "[encoded data removed]",
            "text/plain": [
              "<Figure size 432x288 with 1 Axes>"
            ]
          },
          "metadata": {
            "tags": [],
            "needs_background": "light"
          }
        }
      ]
    }
  ]
}